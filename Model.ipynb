{
 "cells": [
  {
   "cell_type": "code",
   "execution_count": 17,
   "id": "3c739fa4-3df3-4bd2-ae0d-f66867834867",
   "metadata": {
    "tags": []
   },
   "outputs": [],
   "source": [
    "from sklearn.model_selection import train_test_split\n",
    "import category_encoders as ce\n",
    "import numpy as np\n",
    "import pandas as pd\n",
    "import joblib\n",
    "from sklearn.ensemble import RandomForestClassifier\n",
    "from sklearn.metrics import accuracy_score\n",
    "import folium"
   ]
  },
  {
   "cell_type": "code",
   "execution_count": 10,
   "id": "1490b51d-31aa-4991-9b29-05a3b0080ba6",
   "metadata": {
    "tags": []
   },
   "outputs": [],
   "source": [
    "df_adult_new = pd.read_excel('Cleaned_Census_Data.xlsx')\n",
    "\n",
    "df_model=df_adult_new.drop(columns=['relationship','fnlwgt','race','capital_gain','capital_loss','CG_Category'])"
   ]
  },
  {
   "cell_type": "code",
   "execution_count": 14,
   "id": "9b7105fa-bed3-4e7c-89e8-d3e2af02ef9e",
   "metadata": {},
   "outputs": [],
   "source": [
    "X = df_model.drop(['income'], axis=1)\n",
    "\n",
    "y = df_model['income']\n",
    "\n",
    "X_train, X_test, y_train, y_test = train_test_split(X, y, test_size = 0.33, random_state = 42)\n",
    "\n",
    "\n",
    "encoder = ce.OrdinalEncoder(cols=['workclass', 'education','nativecountry','occupation','marital_status','sex'])\n",
    "\n",
    "\n",
    "X_train = encoder.fit_transform(X_train)\n",
    "\n",
    "X_test = encoder.transform(X_test)\n",
    "\n",
    "clf = RandomForestClassifier(n_estimators=100)\n",
    "\n",
    "clf.fit(X_train, y_train)\n",
    "\n",
    "y_pred = clf.predict(X_test)\n",
    "\n",
    "accuracy = accuracy_score(y_test, y_pred)\n"
   ]
  },
  {
   "cell_type": "code",
   "execution_count": 15,
   "id": "060a8f99-678e-4098-a69b-bbf33cb6885c",
   "metadata": {
    "tags": []
   },
   "outputs": [
    {
     "data": {
      "text/plain": [
       "['rf_model.sav']"
      ]
     },
     "execution_count": 15,
     "metadata": {},
     "output_type": "execute_result"
    }
   ],
   "source": [
    "joblib.dump(clf, \"rf_model.sav\")"
   ]
  },
  {
   "cell_type": "code",
   "execution_count": 13,
   "id": "8180eb28-393a-4c31-9e98-e2266cfb49f3",
   "metadata": {},
   "outputs": [
    {
     "data": {
      "text/plain": [
       "0.8164164288373247"
      ]
     },
     "execution_count": 13,
     "metadata": {},
     "output_type": "execute_result"
    }
   ],
   "source": [
    "accuracy"
   ]
  },
  {
   "cell_type": "code",
   "execution_count": null,
   "id": "437af9ec-7127-42dc-800c-17b568d999d0",
   "metadata": {},
   "outputs": [],
   "source": []
  }
 ],
 "metadata": {
  "kernelspec": {
   "display_name": "Python 3 (ipykernel)",
   "language": "python",
   "name": "python3"
  },
  "language_info": {
   "codemirror_mode": {
    "name": "ipython",
    "version": 3
   },
   "file_extension": ".py",
   "mimetype": "text/x-python",
   "name": "python",
   "nbconvert_exporter": "python",
   "pygments_lexer": "ipython3",
   "version": "3.11.5"
  }
 },
 "nbformat": 4,
 "nbformat_minor": 5
}
